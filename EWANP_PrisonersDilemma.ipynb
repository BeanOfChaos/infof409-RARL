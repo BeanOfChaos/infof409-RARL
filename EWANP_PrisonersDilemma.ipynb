{
 "cells": [
  {
   "cell_type": "markdown",
   "metadata": {},
   "source": [
    "# Learning Dynamics and Norm Psychology Supports Human Cooperation in a Large-Scale Prisoner’s Dilemma on Networks"
   ]
  },
  {
   "cell_type": "markdown",
   "metadata": {},
   "source": [
    "## Initialisations"
   ]
  },
  {
   "cell_type": "code",
   "execution_count": 11,
   "metadata": {
    "ExecuteTime": {
     "end_time": "2019-08-31T14:12:26.061021Z",
     "start_time": "2019-08-31T14:12:24.938711Z"
    }
   },
   "outputs": [],
   "source": [
    "import numpy as np\n",
    "import matplotlib.pyplot as plt\n",
    "import math\n",
    "import pickle"
   ]
  },
  {
   "cell_type": "code",
   "execution_count": 12,
   "metadata": {
    "ExecuteTime": {
     "end_time": "2019-08-31T14:12:26.072033Z",
     "start_time": "2019-08-31T14:12:26.062024Z"
    }
   },
   "outputs": [],
   "source": [
    "# Fixed parameters\n",
    "T = 10\n",
    "R = 7\n",
    "P = 0\n",
    "S = 0\n",
    "payoffs = [[R, S],[T, P]] # actions C = 0, D = 1\n",
    "n = 1000       # rounds\n",
    "N = 625        # number of agents\n",
    "k = 4          # number of neighbours\n",
    "D_0 = 0.6      # total drive\n",
    "alpha = 0.21   # memory loss\n",
    "beta = 0.31    # intensity of choice\n",
    "h = 0.31       # relative strength of the normative component\n",
    "w_i = 3.2      # weights\n",
    "w_c = 1\n",
    "w_0 = 0.33"
   ]
  },
  {
   "cell_type": "markdown",
   "metadata": {},
   "source": [
    "## Utils"
   ]
  },
  {
   "cell_type": "code",
   "execution_count": 13,
   "metadata": {
    "ExecuteTime": {
     "end_time": "2019-08-31T14:12:26.095053Z",
     "start_time": "2019-08-31T14:12:26.074035Z"
    }
   },
   "outputs": [],
   "source": [
    "def getNeighbours(N,row,col):\n",
    "    # return contains neighbours in order [Up, Right, Down, Left]\n",
    "    if row == 0:\n",
    "        if col == 0:\n",
    "            return [(N-1, col), (row, col+1), (row+1, col), (row, N-1)]\n",
    "        elif col == N-1:\n",
    "            return [(N-1, col), (row, 0), (row+1, col), (row, col-1)]\n",
    "        else:\n",
    "            return [(N-1, col), (row, col+1), (row+1, col), (row, col-1)]\n",
    "    elif row == N-1:\n",
    "        if col == 0:\n",
    "            return [(row-1, col), (row, col+1), (0, col), (row, N-1)]\n",
    "        elif col == N-1:\n",
    "            return [(row-1, col), (row, 0), (0, col), (row, col-1)]\n",
    "        else:\n",
    "            return [(row-1, col), (row, col+1), (0, col), (row, col-1)]\n",
    "    else: \n",
    "        return [(row-1, col), (row, col+1), (row+1, col), (row, col-1)]"
   ]
  },
  {
   "cell_type": "code",
   "execution_count": 14,
   "metadata": {
    "ExecuteTime": {
     "end_time": "2019-08-31T14:12:26.115074Z",
     "start_time": "2019-08-31T14:12:26.107065Z"
    }
   },
   "outputs": [],
   "source": [
    "def getObservedCooperation(neighbours, A):\n",
    "    count = 0\n",
    "    for (ni,nj) in neighbours:\n",
    "        if A[ni*25+nj] == 0:\n",
    "            count += 1\n",
    "    return count"
   ]
  },
  {
   "cell_type": "code",
   "execution_count": 15,
   "metadata": {
    "ExecuteTime": {
     "end_time": "2019-08-31T14:12:26.125081Z",
     "start_time": "2019-08-31T14:12:26.117074Z"
    }
   },
   "outputs": [],
   "source": [
    "def computeIndividualDrive(neighbours, A):\n",
    "    sum_diff = 0.0\n",
    "    for (ni,nj) in neighbours:\n",
    "        rew_C = payoffs[0][A[ni*25+nj]]\n",
    "        rew_D = payoffs[1][A[ni*25+nj]]\n",
    "        sum_diff += (rew_C - rew_D)\n",
    "    return sum_diff / 4.0"
   ]
  },
  {
   "cell_type": "code",
   "execution_count": 16,
   "metadata": {},
   "outputs": [],
   "source": [
    "def step(i,j, m, A_tm1, dN, dI, D_tp1, P_tp1):\n",
    "    # get neighbours of agent at position (i,j)\n",
    "    neighbours = getNeighbours(25, i, j) \n",
    "    # ct = 1 if agent cooperated, else 0\n",
    "    ct = 1 if A_tm1[i * m + j] == 0 else 0\n",
    "    # get previous neighbour cooperation count\n",
    "    Ot = getObservedCooperation(neighbours, A_tm1)\n",
    "    # get previous D\n",
    "    Dt = D_tp1[i * m + j]\n",
    "    # compute dN\n",
    "    dNt = w_c * (2 * ct - 1) + w_0 * Ot + w_i * ct * Ot\n",
    "    # compute dI\n",
    "    dIt = computeIndividualDrive(neighbours, A_tm1)\n",
    "    # compute new D_tp1\n",
    "    Dtp1 = (1.0 - alpha) * Dt + dIt + h * dNt\n",
    "    # compute cooperation probability\n",
    "    Ptp1 = 1.0 / (1.0 + math.exp(-beta * Dtp1))\n",
    "    # select action and update variables\n",
    "    A_tm1[i * m + j] = 0 if np.random.random() <= Ptp1 else 1 \n",
    "    dN[i * m + j] = dNt\n",
    "    dI[i * m + j] = dIt\n",
    "    D_tp1[i * m + j] = Dtp1\n",
    "    P_tp1[i * m + j] = Ptp1 \n",
    "    return"
   ]
  },
  {
   "cell_type": "markdown",
   "metadata": {},
   "source": [
    "## Static Lattice Simulation"
   ]
  },
  {
   "cell_type": "code",
   "execution_count": 17,
   "metadata": {
    "ExecuteTime": {
     "end_time": "2019-08-31T14:12:32.145663Z",
     "start_time": "2019-08-31T14:12:26.126082Z"
    }
   },
   "outputs": [],
   "source": [
    "# Containers for parameters of the game            \n",
    "A_tm1 = np.zeros(N, dtype=int)        # array of actions for the N players over the n rounds\n",
    "dI_stat = np.zeros((N,n))                      # array to store the individual drive for each player\n",
    "dN_stat = np.zeros((N,n))                      # array to store the norm salience for each player\n",
    "D_tp1 = np.multiply(D_0, np.ones(N))  # array to store the drive, initialised to D_0\n",
    "P_tp1_stat = np.zeros(N)                   # array to store the cooperation probability for each player\n",
    "cooperation_stat = np.zeros(n)             # counter for the cooperation over time\n",
    "    \n",
    "for t in range(n):\n",
    "    if t == 0:\n",
    "        # select action for each agent\n",
    "        for i in range(25):\n",
    "            for j in range(25):\n",
    "                A_tm1[i*25+j] = 0 if np.random.random() <= 0.6 else 1                               \n",
    "        # count cooperations\n",
    "        cooperation_stat[t] = (N - sum(A_tm1))/N\n",
    "    else:\n",
    "        # update parameters\n",
    "        for i in range(25):\n",
    "            for j in range(25):\n",
    "                # agent at position (i,j) plays\n",
    "                step(i,j, 25, A_tm1, dN_stat[:, t-1], dI_stat[:, t-1], D_tp1, P_tp1_stat)\n",
    "        # count cooperation\n",
    "        cooperation_stat[t] = (N - sum(A_tm1))/N"
   ]
  },
  {
   "cell_type": "markdown",
   "metadata": {},
   "source": [
    "## Dynamic lattice simulation"
   ]
  },
  {
   "cell_type": "code",
   "execution_count": 19,
   "metadata": {},
   "outputs": [],
   "source": [
    "# Containers for parameters of the game            \n",
    "A_tm1 = np.zeros(N, dtype=int)            # array of actions for the N players over the n round\n",
    "dI_dyn = np.zeros((N,n))                      # array to store the individual drive for each player\n",
    "dN_dyn = np.zeros((N,n))                      # array to store the norm salience for each player\n",
    "D_tp1 = np.multiply(D_0, np.ones(N))      # array to store the drive, initialised to D_0\n",
    "P_tp1_dyn = np.zeros(N)                   # array to store the cooperation probability for each player\n",
    "cooperation_dyn = np.zeros(n)             # counter for the cooperation over time\n",
    "    \n",
    "for t in range(n):\n",
    "    if t == 0:\n",
    "        # select action for each agent\n",
    "        for i in range(25):\n",
    "            for j in range(25):\n",
    "                A_tm1[i*25+j] = 0 if np.random.random() <= 0.6 else 1                               \n",
    "        # count cooperations\n",
    "        cooperation_dyn[t] = (N - sum(A_tm1))/N\n",
    "    else:\n",
    "        # randomly reposition agents\n",
    "        np.random.shuffle(A_tm1)\n",
    "        # update parameters\n",
    "        for i in range(25):\n",
    "            for j in range(25):\n",
    "                # agent at position (i,j) plays\n",
    "                step(i,j, 25, A_tm1, dN_dyn[:,t-1], dI_dyn[:, t-1], D_tp1, P_tp1_dyn)\n",
    "        # count cooperation\n",
    "        cooperation_dyn[t] = (N - sum(A_tm1))/N"
   ]
  },
  {
   "cell_type": "markdown",
   "metadata": {},
   "source": [
    "## Random network simulation"
   ]
  },
  {
   "cell_type": "code",
   "execution_count": 20,
   "metadata": {},
   "outputs": [],
   "source": [
    "def softmax(x, b):\n",
    "    return 1 / (1 + math.e**(-b * x))"
   ]
  },
  {
   "cell_type": "code",
   "execution_count": 21,
   "metadata": {},
   "outputs": [],
   "source": [
    "def generate_net():\n",
    "    \"\"\"Generates a network with N nodes, each having k neighbours\n",
    "    \"\"\"\n",
    "    strats = [0, 1]\n",
    "    drive = np.full((N,), 0.6, dtype=np.float64)\n",
    "    pop = np.random.choice(strats, size=N, replace=True, p=[D_0, 1-D_0])\n",
    "    adjmat = np.empty((N,), dtype=object)\n",
    "    for i in range(adjmat.size):\n",
    "        adjmat[i] = []\n",
    "\n",
    "    for i, adj in np.ndenumerate(adjmat[:-1]):\n",
    "        if len(adj) < k:\n",
    "            sample = np.random.randint(i[0] + 1, N, size=k-len(adj))\n",
    "            # while the sample isn't valid, i.e. has duplicates or full neighbourhood's players, retry \n",
    "            while not len(sample) == len(set(sample)) and all(len(adjmat[other]) < k for other in sample):\n",
    "                sample = np.random.randint(i[0] + 1, N, size=k-len(adj))\n",
    "            adj.extend(sample)\n",
    "            for other in sample:\n",
    "                adjmat[other].append(i[0])\n",
    "\n",
    "    return pop, drive, adjmat"
   ]
  },
  {
   "cell_type": "code",
   "execution_count": null,
   "metadata": {},
   "outputs": [],
   "source": [
    "def simulate_play(index, pop, adjmat, val=\"C\"):\n",
    "    \"\"\"Simulates the score of an agent at index if he were to play val in the current settings.\n",
    "    \"\"\"\n",
    "    score = 0\n",
    "    for other in adjmat[index]:\n",
    "        score += payoffs[val][pop[other]]\n",
    "    return score"
   ]
  },
  {
   "cell_type": "code",
   "execution_count": null,
   "metadata": {},
   "outputs": [],
   "source": [
    "def update(pop, drive, adjmat, dI, dN, it):\n",
    "    updated_pop = np.empty_like(pop)\n",
    "    for i in range(pop.size):\n",
    "        Ot = sum([pop[j] == 0 for j in adjmat[i]])\n",
    "        ct = int(pop[i] == 0)\n",
    "        dnt = w_c * (2 * ct - 1) + w_0 * Ot + w_i * ct * Ot\n",
    "        dN[i, it] = dnt\n",
    "        dit = simulate_play(i, pop, adjmat, val=0) - simulate_play(i, pop, adjmat, val=1)\n",
    "        dit /= 4\n",
    "        dI[i, it] = dit\n",
    "        drive[i] = drive[i] * (1 - alpha) + dit + h * dnt\n",
    "        if np.random.random() < softmax(drive[i], beta):\n",
    "            updated_pop[i] = 0\n",
    "        else:\n",
    "            updated_pop[i] = 1\n",
    "    return updated_pop"
   ]
  },
  {
   "cell_type": "code",
   "execution_count": null,
   "metadata": {},
   "outputs": [],
   "source": [
    "cooperation_rand = np.zeros(n)\n",
    "pop, drive, adjmat = generate_net()\n",
    "cooperation_rand[0] = (N - sum(pop))/N\n",
    "dI_rand = np.zeros((N,n))                      # array to store the individual drive for each player\n",
    "dN_rand = np.zeros((N,n))                      # array to store the norm salience for each player\n",
    "\n",
    "for i in range(pop.size):\n",
    "    Ot = sum([pop[j] == 0 for j in adjmat[i]])\n",
    "    ct = int(pop[i] == 0)\n",
    "    dnt = w_c * (2 * ct - 1) + w_0 * Ot + w_i * ct * Ot\n",
    "    dN_rand[i, 0] = dnt\n",
    "    dit = simulate_play(i, pop, adjmat, val=0) - simulate_play(i, pop, adjmat, val=1)\n",
    "    dit /= 4\n",
    "    dI_rand[i, 0] = dit\n",
    "    drive[i] = drive[i] * (1 - alpha) + dit + h * dnt\n",
    "    \n",
    "for t in range(1, n):\n",
    "    pop = update(pop, drive, adjmat, dI_rand, dN_rand, t)\n",
    "    cooperation_rand[t] = (N - sum(pop))/N\n",
    "\n",
    "P_tp1_rand = softmax(drive, beta)"
   ]
  },
  {
   "cell_type": "markdown",
   "metadata": {},
   "source": [
    "## Plots"
   ]
  },
  {
   "cell_type": "markdown",
   "metadata": {},
   "source": [
    "### Fraction of agents that cooperated in each round of the game "
   ]
  },
  {
   "cell_type": "code",
   "execution_count": null,
   "metadata": {
    "ExecuteTime": {
     "end_time": "2019-08-31T14:25:08.439828Z",
     "start_time": "2019-08-31T14:25:08.326724Z"
    }
   },
   "outputs": [],
   "source": [
    "# create figure\n",
    "fig, (ax1, ax2) = plt.subplots(1,2, figsize=(21,7))\n",
    "\n",
    "# plot the cooperation level\n",
    "time = np.arange(n)\n",
    "ax1.plot(time, cooperation_stat, marker = \"o\", label='Static')\n",
    "ax1.plot(time, cooperation_dyn, marker = \"D\", label='Dynamic')\n",
    "ax1.plot(time, cooperation_rand, marker = \"*\", label='Random')\n",
    "\n",
    "ax2.plot(time[0:52], cooperation_stat[0:52], marker = \"o\", label='Static')\n",
    "ax2.plot(time[0:52], cooperation_dyn[0:52], marker = \"D\", label='Dynamic')\n",
    "ax2.plot(time[0:52], cooperation_rand[0:52], marker = \"*\", label='Random')\n",
    "ax2.legend(fontsize='large')\n",
    "\n",
    "# add a big axis, hide frame\n",
    "fig.add_subplot(111, frameon=False)\n",
    "\n",
    "# hide tick and tick label of the big axis\n",
    "plt.tick_params(labelcolor='none', top=False, bottom=False, left=False, right=False)\n",
    "plt.xlabel('Rounds', fontsize='x-large', labelpad=20)\n",
    "plt.ylabel('Fraction of cooperative acts', fontsize='x-large', labelpad=20)\n",
    "\n",
    "plt.show()\n",
    "fig.savefig('plots/cooperation.png')"
   ]
  },
  {
   "cell_type": "markdown",
   "metadata": {},
   "source": [
    "### Fraction of agents that reached a certain probability of cooperation "
   ]
  },
  {
   "cell_type": "code",
   "execution_count": null,
   "metadata": {},
   "outputs": [],
   "source": [
    "def myHist(bins, P):\n",
    "    ys = [0 for _ in bins]\n",
    "    for i, val in enumerate(bins):\n",
    "        for p in P:\n",
    "            if p >= val - 0.05 and p < val + 0.05:\n",
    "                ys[i] += 1\n",
    "    res = [float(ysi)/N for ysi in ys]\n",
    "    return res"
   ]
  },
  {
   "cell_type": "code",
   "execution_count": null,
   "metadata": {},
   "outputs": [],
   "source": [
    "# Compute bar heights\n",
    "xs = [0., 0.1, 0.2, 0.3, 0.4, 0.5, 0.6, 0.7, 0.8, 0.9, 1]\n",
    "mu = [2*x*((1-x)**3) for x in xs]\n",
    "bars1 = myHist(xs, P_tp1_stat)\n",
    "bars2 = myHist(xs, P_tp1_dyn)\n",
    "bars3 = myHist(xs, P_tp1_rand)\n",
    "\n",
    "# Set width of bar\n",
    "barWidth = 0.25\n",
    "\n",
    "# Set position of bar on X axis\n",
    "r1 = np.arange(len(xs))\n",
    "r2 = [x + barWidth for x in r1]\n",
    "r3 = [x + barWidth for x in r2]\n",
    "\n",
    "# Make the plot\n",
    "fig, ax = plt.subplots(figsize=(10,7))\n",
    "ax.bar(r1, bars1, width=barWidth, edgecolor='white', label='Static')\n",
    "ax.bar(r2, bars2, width=barWidth, edgecolor='white', label='Dynamic')\n",
    "ax.bar(r3, bars3, width=barWidth, edgecolor='white', label='Random')\n",
    "ax.plot(r1, mu, c='k')\n",
    "\n",
    "# Add xticks on the middle of the group bars\n",
    "plt.xlabel('Probability of cooperation', fontsize='large')\n",
    "plt.ylabel('Fraction of players', fontsize='large')\n",
    "plt.xticks([r + barWidth for r in range(len(bars1))], xs)\n",
    " \n",
    "# Create legend & Show graphic\n",
    "plt.legend()\n",
    "plt.show()\n",
    "\n",
    "fig.savefig('plots/prob_cooperation.png')"
   ]
  },
  {
   "cell_type": "markdown",
   "metadata": {},
   "source": [
    "### Probability for a generic agent to cooperate after she cooperated or after she defected"
   ]
  },
  {
   "cell_type": "code",
   "execution_count": null,
   "metadata": {},
   "outputs": [],
   "source": []
  },
  {
   "cell_type": "markdown",
   "metadata": {},
   "source": [
    "### Stationary state: Probability of agents who reached a given probability of cooperation, a certain individual drive and a given normative drive"
   ]
  },
  {
   "cell_type": "code",
   "execution_count": 9,
   "metadata": {},
   "outputs": [],
   "source": [
    "def plotStationaryState(P, dI, dN, filename):\n",
    "    # create figure\n",
    "    fig, (ax1, ax2, ax3) = plt.subplots(1,3, sharey= True, figsize=(21,7))\n",
    "\n",
    "    # plot the cooperation level\n",
    "    bins = [0., 0.1, 0.2, 0.3, 0.4, 0.5, 0.6, 0.7, 0.8, 0.9, 1]\n",
    "    bars = myHist(bins, P)    \n",
    "    ax1.bar(np.arange(len(bins)), bars, width = 0.5, color='#0504aa',alpha=0.7)\n",
    "    ax1.set_xlabel('Probability of cooperation', fontsize='large')\n",
    "    ax1.set_ylabel('Fraction of players', fontsize='large')\n",
    "    ax1.set_ylim(0,1)\n",
    "    \n",
    "    # plot the individual drive\n",
    "    hist,bin_edges = np.histogram(dI[:,52], bins = 5)\n",
    "    ax2.bar(bin_edges[:-1], np.divide(hist,N), width = 0.5, color='#0504aa',alpha=0.7)\n",
    "    ax2.set_xlabel('Individual drive', fontsize='large')\n",
    "    ax2.set_ylabel('Fraction of players', fontsize='large')\n",
    "    ax2.set_xlim(-16,0)\n",
    "    \n",
    "    # plot the normative drive\n",
    "    hist,bin_edges = np.histogram(dN[:,52], bins = 5)\n",
    "    ax3.bar(bin_edges[:-1], np.divide(hist,N), width = 0.5, color='#0504aa',alpha=0.7)\n",
    "    ax3.set_xlabel('Normative drive', fontsize='large')\n",
    "    ax3.set_ylabel('Fraction of players', fontsize='large')\n",
    "    ax3.set_xlim(-5,30)\n",
    "\n",
    "    plt.show()\n",
    "    fig.savefig(filename)"
   ]
  },
  {
   "cell_type": "code",
   "execution_count": 10,
   "metadata": {},
   "outputs": [
    {
     "name": "stdout",
     "output_type": "stream",
     "text": [
      "*** Static lattice ***\n"
     ]
    },
    {
     "ename": "NameError",
     "evalue": "name 'myHist' is not defined",
     "output_type": "error",
     "traceback": [
      "\u001b[0;31m---------------------------------------------------------------------------\u001b[0m",
      "\u001b[0;31mNameError\u001b[0m                                 Traceback (most recent call last)",
      "\u001b[0;32m<ipython-input-10-055f73dcaad1>\u001b[0m in \u001b[0;36m<module>\u001b[0;34m\u001b[0m\n\u001b[1;32m      1\u001b[0m \u001b[0;31m# plot for static lattice treatment\u001b[0m\u001b[0;34m\u001b[0m\u001b[0;34m\u001b[0m\u001b[0;34m\u001b[0m\u001b[0m\n\u001b[1;32m      2\u001b[0m \u001b[0mprint\u001b[0m\u001b[0;34m(\u001b[0m\u001b[0;34m'*** Static lattice ***'\u001b[0m\u001b[0;34m)\u001b[0m\u001b[0;34m\u001b[0m\u001b[0;34m\u001b[0m\u001b[0m\n\u001b[0;32m----> 3\u001b[0;31m \u001b[0mplotStationaryState\u001b[0m\u001b[0;34m(\u001b[0m\u001b[0mP_tp1_stat\u001b[0m\u001b[0;34m,\u001b[0m \u001b[0mdI_stat\u001b[0m\u001b[0;34m,\u001b[0m \u001b[0mdN_stat\u001b[0m\u001b[0;34m,\u001b[0m \u001b[0;34m'plots/stationary_static.png'\u001b[0m\u001b[0;34m)\u001b[0m\u001b[0;34m\u001b[0m\u001b[0;34m\u001b[0m\u001b[0m\n\u001b[0m\u001b[1;32m      4\u001b[0m \u001b[0;34m\u001b[0m\u001b[0m\n\u001b[1;32m      5\u001b[0m \u001b[0;31m# plot for dynamic lattice treatment\u001b[0m\u001b[0;34m\u001b[0m\u001b[0;34m\u001b[0m\u001b[0;34m\u001b[0m\u001b[0m\n",
      "\u001b[0;32m<ipython-input-9-f7698b9ff146>\u001b[0m in \u001b[0;36mplotStationaryState\u001b[0;34m(P, dI, dN, filename)\u001b[0m\n\u001b[1;32m      5\u001b[0m     \u001b[0;31m# plot the cooperation level\u001b[0m\u001b[0;34m\u001b[0m\u001b[0;34m\u001b[0m\u001b[0;34m\u001b[0m\u001b[0m\n\u001b[1;32m      6\u001b[0m     \u001b[0mbins\u001b[0m \u001b[0;34m=\u001b[0m \u001b[0;34m[\u001b[0m\u001b[0;36m0.\u001b[0m\u001b[0;34m,\u001b[0m \u001b[0;36m0.1\u001b[0m\u001b[0;34m,\u001b[0m \u001b[0;36m0.2\u001b[0m\u001b[0;34m,\u001b[0m \u001b[0;36m0.3\u001b[0m\u001b[0;34m,\u001b[0m \u001b[0;36m0.4\u001b[0m\u001b[0;34m,\u001b[0m \u001b[0;36m0.5\u001b[0m\u001b[0;34m,\u001b[0m \u001b[0;36m0.6\u001b[0m\u001b[0;34m,\u001b[0m \u001b[0;36m0.7\u001b[0m\u001b[0;34m,\u001b[0m \u001b[0;36m0.8\u001b[0m\u001b[0;34m,\u001b[0m \u001b[0;36m0.9\u001b[0m\u001b[0;34m,\u001b[0m \u001b[0;36m1\u001b[0m\u001b[0;34m]\u001b[0m\u001b[0;34m\u001b[0m\u001b[0;34m\u001b[0m\u001b[0m\n\u001b[0;32m----> 7\u001b[0;31m     \u001b[0mbars\u001b[0m \u001b[0;34m=\u001b[0m \u001b[0mmyHist\u001b[0m\u001b[0;34m(\u001b[0m\u001b[0mbins\u001b[0m\u001b[0;34m,\u001b[0m \u001b[0mP\u001b[0m\u001b[0;34m)\u001b[0m\u001b[0;34m\u001b[0m\u001b[0;34m\u001b[0m\u001b[0m\n\u001b[0m\u001b[1;32m      8\u001b[0m     \u001b[0max1\u001b[0m\u001b[0;34m.\u001b[0m\u001b[0mbar\u001b[0m\u001b[0;34m(\u001b[0m\u001b[0mnp\u001b[0m\u001b[0;34m.\u001b[0m\u001b[0marange\u001b[0m\u001b[0;34m(\u001b[0m\u001b[0mlen\u001b[0m\u001b[0;34m(\u001b[0m\u001b[0mbins\u001b[0m\u001b[0;34m)\u001b[0m\u001b[0;34m)\u001b[0m\u001b[0;34m,\u001b[0m \u001b[0mbars\u001b[0m\u001b[0;34m,\u001b[0m \u001b[0mwidth\u001b[0m \u001b[0;34m=\u001b[0m \u001b[0;36m0.5\u001b[0m\u001b[0;34m,\u001b[0m \u001b[0mcolor\u001b[0m\u001b[0;34m=\u001b[0m\u001b[0;34m'#0504aa'\u001b[0m\u001b[0;34m,\u001b[0m\u001b[0malpha\u001b[0m\u001b[0;34m=\u001b[0m\u001b[0;36m0.7\u001b[0m\u001b[0;34m)\u001b[0m\u001b[0;34m\u001b[0m\u001b[0;34m\u001b[0m\u001b[0m\n\u001b[1;32m      9\u001b[0m     \u001b[0max1\u001b[0m\u001b[0;34m.\u001b[0m\u001b[0mset_xlabel\u001b[0m\u001b[0;34m(\u001b[0m\u001b[0;34m'Probability of cooperation'\u001b[0m\u001b[0;34m,\u001b[0m \u001b[0mfontsize\u001b[0m\u001b[0;34m=\u001b[0m\u001b[0;34m'large'\u001b[0m\u001b[0;34m)\u001b[0m\u001b[0;34m\u001b[0m\u001b[0;34m\u001b[0m\u001b[0m\n",
      "\u001b[0;31mNameError\u001b[0m: name 'myHist' is not defined"
     ]
    },
    {
     "data": {
      "image/png": "[encoded data removed]",
      "text/plain": [
       "<Figure size 1512x504 with 3 Axes>"
      ]
     },
     "metadata": {
      "needs_background": "light"
     },
     "output_type": "display_data"
    }
   ],
   "source": [
    "# plot for static lattice treatment\n",
    "print('*** Static lattice ***')\n",
    "plotStationaryState(P_tp1_stat, dI_stat, dN_stat, 'plots/stationary_static.png')\n",
    "\n",
    "# plot for dynamic lattice treatment\n",
    "print('*** Dynamic lattice ***')\n",
    "plotStationaryState(P_tp1_dyn, dI_dyn, dN_dyn, 'plots/stationary_dyn.png')\n",
    "\n",
    "# plot for random network treatment\n",
    "print('*** Random network ***')\n",
    "plotStationaryState(P_tp1_rand, dI_rand, dN_rand, 'plots/stationary_rand.png')"
   ]
  },
  {
   "cell_type": "code",
   "execution_count": null,
   "metadata": {},
   "outputs": [],
   "source": []
  },
  {
   "cell_type": "code",
   "execution_count": null,
   "metadata": {},
   "outputs": [],
   "source": []
  }
 ],
 "metadata": {
  "kernelspec": {
   "display_name": "Python 3",
   "language": "python",
   "name": "python3"
  },
  "language_info": {
   "codemirror_mode": {
    "name": "ipython",
    "version": 3
   },
   "file_extension": ".py",
   "mimetype": "text/x-python",
   "name": "python",
   "nbconvert_exporter": "python",
   "pygments_lexer": "ipython3",
   "version": "3.7.4"
  },
  "toc": {
   "base_numbering": 1,
   "nav_menu": {},
   "number_sections": true,
   "sideBar": true,
   "skip_h1_title": false,
   "title_cell": "Table of Contents",
   "title_sidebar": "Contents",
   "toc_cell": false,
   "toc_position": {},
   "toc_section_display": true,
   "toc_window_display": false
  },
  "varInspector": {
   "cols": {
    "lenName": 16,
    "lenType": 16,
    "lenVar": 40
   },
   "kernels_config": {
    "python": {
     "delete_cmd_postfix": "",
     "delete_cmd_prefix": "del ",
     "library": "var_list.py",
     "varRefreshCmd": "print(var_dic_list())"
    },
    "r": {
     "delete_cmd_postfix": ") ",
     "delete_cmd_prefix": "rm(",
     "library": "var_list.r",
     "varRefreshCmd": "cat(var_dic_list()) "
    }
   },
   "types_to_exclude": [
    "module",
    "function",
    "builtin_function_or_method",
    "instance",
    "_Feature"
   ],
   "window_display": true
  }
 },
 "nbformat": 4,
 "nbformat_minor": 2
}
